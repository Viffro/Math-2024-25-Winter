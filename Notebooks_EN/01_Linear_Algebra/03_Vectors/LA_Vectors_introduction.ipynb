{
  "cells": [
    {
      "cell_type": "markdown",
      "metadata": {
        "id": "view-in-github",
        "colab_type": "text"
      },
      "source": [
        "<a href=\"https://colab.research.google.com/github/Viffro/Math-2024-25-Winter/blob/main/Notebooks_EN/01_Linear_Algebra/03_Vectors/LA_Vectors_introduction.ipynb\" target=\"_parent\"><img src=\"https://colab.research.google.com/assets/colab-badge.svg\" alt=\"Open In Colab\"/></a>"
      ]
    },
    {
      "cell_type": "markdown",
      "metadata": {
        "id": "xZwyo_6FlhUP"
      },
      "source": [
        "# Vectors - Introduction\n",
        "\n",
        "**Vectors** are quantities that have both magnitude and direction in space. They are used to describe various physical quantities such as velocity, force, or electric field intensity. Unlike scalars, which have only magnitude (e.g., mass, temperature), vectors require a direction to be specified.\n",
        "\n",
        "A vector is represented with an arrow above the symbol $\\vec{a}$ or in bold type $\\mathbf{a}$.\n",
        "- The magnitude of a vector can be written as $\\vec{a}|$ or $a$.\n",
        "- A vector of length 1 is called a unit vector and is denoted by $\\hat{\\mathbf{a}} = \\frac{\\vec{a}}{|\\vec{a}|}$.\n",
        "\n",
        "**Example:**\n",
        "\n",
        "The vector $\\mathbf{a}= [3, 4]$ has a magnitude $a = 5$, and the corresponding unit vector (unit vector along the direction of vector $\\mathbf{a}$) is expressed as $\\hat{\\mathbf{a}} = \\left[\\frac{3}{5}, \\frac{4}{5}\\right]$.\n"
      ]
    },
    {
      "cell_type": "code",
      "execution_count": null,
      "metadata": {
        "id": "zn2yGkiqlhUQ",
        "outputId": "c21cb9e6-a7af-450d-912b-9aa0c67059ff"
      },
      "outputs": [
        {
          "data": {
            "text/latex": [
              "$\\displaystyle \\sqrt{a_{x}^{2} + a_{y}^{2}}$"
            ],
            "text/plain": [
              "sqrt(a_x**2 + a_y**2)"
            ]
          },
          "execution_count": 2,
          "metadata": {},
          "output_type": "execute_result"
        }
      ],
      "source": [
        "import sympy as sp  # import the sympy module\n",
        "\n",
        "# For vector $\\mathbf{a} = [a_x, a_y]$, the magnitude is given by the formula:\n",
        "# $$ |\\mathbf{a}| = a = \\sqrt{a_x^2 + a_y^2} $$\n",
        "\n",
        "a_x, a_y = sp.symbols('a_x a_y')  # Step 1: Define symbolic variables a_x and a_y\n",
        "magnitude_a = sp.sqrt(a_x**2 + a_y**2)  # Step 2: Create the formula for the magnitude of vector a\n",
        "magnitude_a  # Step 3: Display the result"
      ]
    },
    {
      "cell_type": "code",
      "execution_count": null,
      "metadata": {
        "id": "y60mV2W_lhUR",
        "outputId": "cd4bdee5-7980-42b6-c100-fb00ff195281"
      },
      "outputs": [
        {
          "data": {
            "text/latex": [
              "$\\displaystyle 5.0$"
            ],
            "text/plain": [
              "5.00000000000000"
            ]
          },
          "execution_count": 3,
          "metadata": {},
          "output_type": "execute_result"
        }
      ],
      "source": [
        "# Assign values to a_x and a_y\n",
        "a_x = 3  # x component of the vector\n",
        "a_y = 4  # y component of the vector\n",
        "\n",
        "magnitude_a = sp.sqrt(a_x**2 + a_y**2)  # Calculate the magnitude of the vector for a_x = 3 and a_y = 4\n",
        "magnitude_a.evalf()  # Numerically calculate the magnitude of the vector (expected result: 5)"
      ]
    },
    {
      "cell_type": "markdown",
      "metadata": {
        "id": "fHvg0Fk2lhUR"
      },
      "source": [
        "## Vector Addition\n",
        "\n",
        "Vector addition involves adding the corresponding components of vectors of the same length.\n",
        "\n",
        "For two vectors $\\mathbf{a}$ and $\\mathbf{b}$ in the space $\\mathbb{R}^n$, where:\n",
        "\n",
        "$$\n",
        "\\mathbf{a} = [a_1, a_2, \\dots, a_n], \\quad \\mathbf{b} = [b_1, b_2, \\dots, b_n]\n",
        "$$\n",
        "\n",
        "Vector addition is defined as follows:\n",
        "\n",
        "$$\n",
        "\\mathbf{a} + \\mathbf{b} = [a_1 + b_1, a_2 + b_2, \\dots, a_n + b_n]\n",
        "$$\n",
        "\n",
        "## Scalar Multiplication of a Vector\n",
        "\n",
        "Scalar multiplication of a vector involves multiplying each component of the vector by the same number.\n",
        "\n",
        "For a vector $\\mathbf{a}$ and a scalar $k$:\n",
        "\n",
        "$$\n",
        "k \\mathbf{a} = [k a_1, k a_2, \\dots, k a_n]\n",
        "$$\n",
        "\n",
        "## Vectors in the Plane and Space\n",
        "\n",
        "**Vectors in 2D:**\n",
        "\n",
        "If $\\mathbf{a} = [a_x, a_y]$, then the magnitude is given by the formula $|\\mathbf{a}| = a = \\sqrt{a_x^2 + a_y^2}$.\n",
        "\n",
        "**Vectors in 3D:**\n",
        "\n",
        "If $\\mathbf{a} = [a_x, a_y, a_z]$, then the magnitude of the vector is $|\\mathbf{a}| = a = \\sqrt{a_x^2 + a_y^2 + a_z^2}$.\n",
        "\n",
        "## Plotting a Vector"
      ]
    },
    {
      "cell_type": "code",
      "execution_count": null,
      "metadata": {
        "id": "QjmzWTPdlhUR",
        "outputId": "4f7fb25e-242f-4807-8fa0-b075b336401a"
      },
      "outputs": [
        {
          "data": {
            "image/png": "[encoded data removed]",
            "text/plain": [
              "<Figure size 640x480 with 1 Axes>"
            ]
          },
          "metadata": {},
          "output_type": "display_data"
        }
      ],
      "source": [
        "import matplotlib.pyplot as plt # import the matplotlib.pyplot module\n",
        "\n",
        "plt.figure() # create a new figure\n",
        "plt.quiver(0, 0, 3, 4, angles='xy', scale_units='xy', scale=1, color='r') # quick way to plot a vector quiver(x_start, y_start, x_end, y_end)\n",
        "plt.xlim(0, 5) # set x-axis range\n",
        "plt.ylim(0, 5) # set y-axis range\n",
        "plt.grid(True) # enable grid\n",
        "plt.gca().set_aspect('equal') # set equal scaling on x and y axes\n",
        "plt.show()"
      ]
    },
    {
      "cell_type": "markdown",
      "metadata": {
        "id": "n5N9xFfslhUR"
      },
      "source": [
        "## Example of Simple Vector Implementation in Python\n",
        "\n",
        "Given vectors $\\mathbf{a}=[1, 2]$ and $\\mathbf{b}=[3, 4]$, we want to calculate their sum $\\mathbf{c}=\\mathbf{a}+\\mathbf{b}= [1+3, 2+4] = [4, 6]$"
      ]
    },
    {
      "cell_type": "code",
      "execution_count": null,
      "metadata": {
        "id": "Yn-dYXdClhUR",
        "outputId": "518dc1e8-0a0b-41d9-8f9c-9e1ecf226936"
      },
      "outputs": [
        {
          "data": {
            "text/plain": [
              "[4, 6]"
            ]
          },
          "execution_count": 5,
          "metadata": {},
          "output_type": "execute_result"
        }
      ],
      "source": [
        "import sympy as sp # import the sympy module\n",
        "\n",
        "a=[1, 2] # vector a\n",
        "b=[3, 4] # vector b\n",
        "c = [a[0] + b[0], a[1] + b[1]] # sum of vectors a and b\n",
        "c # display the result"
      ]
    },
    {
      "cell_type": "markdown",
      "metadata": {
        "id": "Dzzi3_uklhUR"
      },
      "source": [
        "## Example of Better Vector Implementation in Python\n",
        "\n",
        "Vectors are represented as column matrices. Then vector addition is the same as matrix addition."
      ]
    },
    {
      "cell_type": "code",
      "execution_count": null,
      "metadata": {
        "id": "0PCZOCb2lhUR",
        "outputId": "4389f6d3-7423-4ab2-d51f-8fad78084447"
      },
      "outputs": [
        {
          "data": {
            "text/latex": [
              "$\\displaystyle \\left[\\begin{matrix}12\\\\5\\\\18\\end{matrix}\\right]$"
            ],
            "text/plain": [
              "Matrix([\n",
              "[12],\n",
              "[ 5],\n",
              "[18]])"
            ]
          },
          "execution_count": 6,
          "metadata": {},
          "output_type": "execute_result"
        }
      ],
      "source": [
        "import sympy as sp\n",
        "\n",
        "# Vector definitions\n",
        "a = sp.Matrix([1, 2, 3])\n",
        "b = sp.Matrix([4, 5, 6])\n",
        "c = sp.Matrix([7, 0, 9])\n",
        "d = sp.Matrix([0, 2, 0])\n",
        "\n",
        "a + b + c - d # An operation involving addition and subtraction of vectors"
      ]
    },
    {
      "cell_type": "markdown",
      "metadata": {
        "id": "HgAPuIOelhUS"
      },
      "source": [
        "## Plotting Vector Addition\n",
        "\n",
        "Example: $\\mathbf{a}=[2,1]$ and $\\mathbf{b}=[1,2]$ results in vector $\\mathbf{c}=\\mathbf{a}+\\mathbf{b}=[3,3]$."
      ]
    },
    {
      "cell_type": "code",
      "execution_count": null,
      "metadata": {
        "id": "UFGJpTsBlhUS",
        "outputId": "b8eb568b-d64d-46af-c285-77e7bd1f607c"
      },
      "outputs": [
        {
          "data": {
            "image/png": "[encoded data removed]",
            "text/plain": [
              "<Figure size 640x480 with 1 Axes>"
            ]
          },
          "metadata": {},
          "output_type": "display_data"
        }
      ],
      "source": [
        "import matplotlib.pyplot as plt # import the matplotlib.pyplot module #example of vector addition in two-dimensional space\n",
        "\n",
        "plt.figure() # create a new figure\n",
        "plt.quiver(0, 0, 2, 1, angles='xy', scale_units='xy', scale=1, color='r') # quick way to plot vectors quiver(x_start, y_start, x_end, y_end)\n",
        "plt.quiver(0, 0, 1, 2, angles='xy', scale_units='xy', scale=1, color='b') # quick way to plot vectors quiver(x_start, y_start, x_end, y_end)\n",
        "plt.quiver(0, 0, 3, 3, angles='xy', scale_units='xy', scale=1, color='g') # quick way to plot vectors quiver(x_start, y_start, x_end, y_end)\n",
        "plt.xlim(-1, 4) # set x-axis range\n",
        "plt.ylim(-1, 4) # set y-axis range\n",
        "plt.grid(True) # enable grid\n",
        "plt.gca().set_aspect('equal') # set equal scaling on x and y axes\n",
        "plt.show()"
      ]
    },
    {
      "cell_type": "markdown",
      "metadata": {
        "id": "cUP-8c_elhUS"
      },
      "source": [
        "## Coordinate Systems in the Plane and Space\n",
        "\n",
        "**Cartesian Coordinate System** is the basic coordinate system in which points in space are specified by their distances from fixed axes: $x$, $y$ (for 2D) and $z$ (for 3D).\n",
        "\n",
        "- In 2D, each point can be written as $(x, y)$.\n",
        "- In 3D, points are of the form $(x, y, z)$.\n",
        "\n",
        "**Polar Coordinate System** is used in 2D and defines a point by its distance from the origin (r) and the angle (θ) relative to the reference axis.\n",
        "\n",
        "**Spherical Coordinate System** is used in 3D and defines a point by its distance from the origin (r), azimuth angle (θ), and elevation angle (φ).\n",
        "\n",
        "Vectors can be represented using components in the Cartesian coordinate system, where each component corresponds to the distance of the point from the respective coordinate axis.\n",
        "\n",
        "- For a vector in two-dimensional space: $\\mathbf{a} = [a_x, a_y] = a_x\\hat{\\mathbf{i}} + a_y\\hat{\\mathbf{j}}$\n",
        "- For a vector in three-dimensional space: $\\mathbf{a} = [a_x, a_y, a_z] = a_x\\hat{\\mathbf{i}} + a_y\\hat{\\mathbf{j}} + a_z\\hat{\\mathbf{k}}$\n",
        "\n",
        "## Basis\n",
        "\n",
        "**Basis** of vectors is a set of vectors that spans a vector space. In Cartesian space, the standard basis vectors are $\\hat{\\mathbf{i}}, \\hat{\\mathbf{j}}, \\hat{\\mathbf{k}}$.\n",
        "\n",
        "For 2D:\n",
        "\n",
        "$$\n",
        "\\hat{\\mathbf{i}} = [1, 0], \\quad \\hat{\\mathbf{j}} = [0, 1]\n",
        "$$\n",
        "\n",
        "For 3D:\n",
        "\n",
        "$$\n",
        "\\hat{\\mathbf{i}} = [1, 0, 0], \\quad \\hat{\\mathbf{j}} = [0, 1, 0], \\quad \\hat{\\mathbf{k}} = [0, 0, 1]\n",
        "$$\n",
        "\n",
        "These basis vectors are unit vectors and are perpendicular to each other.\n",
        "\n",
        "### Finding the Coordinates of a Vector in a New Basis\n",
        "\n",
        "To find the coordinates of vector $\\mathbf{v}$ in a new basis $\\{\\mathbf{b_1}, \\mathbf{b_2}, \\mathbf{b_3}\\}$, express $\\mathbf{v}$ as a linear combination of the basis vectors.\n",
        "\n",
        "$$\n",
        "\\mathbf{v} = c_1 \\mathbf{b_1} + c_2 \\mathbf{b_2} + c_3 \\mathbf{b_3}\n",
        "$$\n",
        "\n",
        "The coefficients $c_1, c_2, c_3$ are the coordinates of vector $\\mathbf{v}$ in the new basis.\n",
        "\n",
        "---\n",
        "\n",
        "## Student Exercises\n",
        "\n",
        "A. By what number should vector $\\mathbf{a} = [3, 4]$ be multiplied so that its length is equal to 1?\n",
        "\n",
        "B. Calculate the length of vector $\\mathbf{b} = [1, 1]$ and find the unit vector of this vector.\n",
        "\n",
        "C. Plot the vector and the unit vector from the previous exercise.\n",
        "\n",
        "D. Calculate the length of vector $\\mathbf{c} = [1, 2, 3]$ and find the unit vector of this vector.\n",
        "\n",
        "E. Find the Cartesian coordinates of vector $\\mathbf{v} = [2, 3, 4]$ in the basis $\\{\\mathbf{b_1} = [1, 0, 1], \\mathbf{b_2} = [0, 1, 0], \\mathbf{b_3} = [1, 0, -1]\\}$."
      ]
    },
    {
      "cell_type": "markdown",
      "source": [
        "\n",
        "### A. By what number should vector $ \\mathbf{a} = [3, 4] $ be multiplied so that its length is equal to 1?\n",
        "\n",
        "To make the length of a vector equal to 1, we need to multiply the vector by a scalar that is the reciprocal of its length (magnitude).\n",
        "\n",
        "1. **Length (Magnitude) of $ \\mathbf{a} $:**\n",
        "\n",
        "   The magnitude of a 2D vector $ \\mathbf{a} = [a_1, a_2] $ is given by:\n",
        "\n",
        "   $$\n",
        "   \\|\\mathbf{a}\\| = \\sqrt{a_1^2 + a_2^2}\n",
        "   $$\n",
        "\n",
        "   For $ \\mathbf{a} = [3, 4] $:\n",
        "\n",
        "   $$\n",
        "   \\|\\mathbf{a}\\| = \\sqrt{3^2 + 4^2} = \\sqrt{9 + 16} = \\sqrt{25} = 5\n",
        "   $$\n",
        "\n",
        "2. **To make the length of the vector equal to 1:**\n",
        "\n",
        "   We need to multiply $ \\mathbf{a} $ by the reciprocal of its magnitude:\n",
        "\n",
        "   $$\n",
        "   \\text{Required scalar} = \\frac{1}{\\|\\mathbf{a}\\|} = \\frac{1}{5}\n",
        "   $$\n",
        "\n",
        "Thus, $ \\mathbf{a} $ should be multiplied by $ \\frac{1}{5} $ to make its length equal to 1.\n",
        "\n",
        "---\n",
        "\n",
        "### B. Calculate the length of vector $ \\mathbf{b} = [1, 1] $ and find the unit vector of this vector.\n",
        "\n",
        "1. **Length (Magnitude) of $ \\mathbf{b} $:**\n",
        "\n",
        "   The magnitude of $ \\mathbf{b} = [1, 1] $ is:\n",
        "\n",
        "   $$\n",
        "   \\|\\mathbf{b}\\| = \\sqrt{1^2 + 1^2} = \\sqrt{1 + 1} = \\sqrt{2}\n",
        "   $$\n",
        "\n",
        "2. **Unit vector of $ \\mathbf{b} $:**\n",
        "\n",
        "   The unit vector $ \\hat{b} $ is obtained by dividing the vector by its magnitude:\n",
        "\n",
        "   $$\n",
        "   \\hat{b} = \\frac{\\mathbf{b}}{\\|\\mathbf{b}\\|} = \\frac{[1, 1]}{\\sqrt{2}} = \\left[ \\frac{1}{\\sqrt{2}}, \\frac{1}{\\sqrt{2}} \\right]\n",
        "   $$\n",
        "\n",
        "Thus, the unit vector of $ \\mathbf{b} $ is $ \\hat{b} = \\left[ \\frac{1}{\\sqrt{2}}, \\frac{1}{\\sqrt{2}} \\right] $.\n",
        "\n",
        "---\n",
        "\n",
        "### C. Plot the vector and the unit vector from the previous exercise.\n",
        "\n",
        "Let's plot the vectors $ \\mathbf{b} = [1, 1] $ and $ \\hat{b} = \\left[ \\frac{1}{\\sqrt{2}}, \\frac{1}{\\sqrt{2}} \\right] $.\n",
        "\n"
      ],
      "metadata": {
        "id": "z37CXRWMlzIq"
      }
    },
    {
      "cell_type": "code",
      "source": [
        "import matplotlib.pyplot as plt\n",
        "import numpy as np\n",
        "\n",
        "# Define the vectors b = [1, 1] and its unit vector\n",
        "b = np.array([1, 1])\n",
        "unit_b = b / np.linalg.norm(b)\n",
        "\n",
        "# Create a plot\n",
        "plt.figure(figsize=(6,6))\n",
        "plt.quiver(0, 0, b[0], b[1], angles='xy', scale_units='xy', scale=1, color='blue', label=\"Vector b = [1, 1]\")\n",
        "plt.quiver(0, 0, unit_b[0], unit_b[1], angles='xy', scale_units='xy', scale=1, color='red', label=\"Unit vector of b\")\n",
        "\n",
        "# Set the limits and grid\n",
        "plt.xlim(-1, 2)\n",
        "plt.ylim(-1, 2)\n",
        "plt.axhline(0, color='black',linewidth=0.5)\n",
        "plt.axvline(0, color='black',linewidth=0.5)\n",
        "plt.grid(True)\n",
        "\n",
        "# Add labels and legend\n",
        "plt.text(1, 1, '[1, 1]', fontsize=12, ha='left')\n",
        "plt.text(unit_b[0] + 0.05, unit_b[1] + 0.05, f'Unit vector', fontsize=12, ha='left', color='red')\n",
        "\n",
        "# Add a title\n",
        "plt.title(\"Vector and its Unit Vector\")\n",
        "\n",
        "# Show the plot\n",
        "plt.legend()\n",
        "plt.gca().set_aspect('equal', adjustable='box')\n",
        "plt.show()\n"
      ],
      "metadata": {
        "id": "EsH2HoCBowIx",
        "outputId": "06e0043c-a250-4a43-a243-ed3ba0882643",
        "colab": {
          "base_uri": "https://localhost:8080/",
          "height": 545
        }
      },
      "execution_count": 1,
      "outputs": [
        {
          "output_type": "display_data",
          "data": {
            "text/plain": [
              "<Figure size 600x600 with 1 Axes>"
            ],
            "image/png": "[encoded data removed]"
          },
          "metadata": {}
        }
      ]
    },
    {
      "cell_type": "markdown",
      "source": [
        "---\n",
        "\n",
        "### D. Calculate the length of vector $ \\mathbf{c} = [1, 2, 3] $ and find the unit vector of this vector.\n",
        "\n",
        "1. **Length (Magnitude) of $ \\mathbf{c} $:**\n",
        "\n",
        "   The magnitude of $ \\mathbf{c} = [1, 2, 3] $ is:\n",
        "\n",
        "   $$\n",
        "   \\|\\mathbf{c}\\| = \\sqrt{1^2 + 2^2 + 3^2} = \\sqrt{1 + 4 + 9} = \\sqrt{14}\n",
        "   $$\n",
        "\n",
        "2. **Unit vector of $ \\mathbf{c} $:**\n",
        "\n",
        "   The unit vector $ \\hat{c} $ is obtained by dividing $ \\mathbf{c} $ by its magnitude:\n",
        "\n",
        "   $$\n",
        "   \\hat{c} = \\frac{\\mathbf{c}}{\\|\\mathbf{c}\\|} = \\frac{[1, 2, 3]}{\\sqrt{14}} = \\left[ \\frac{1}{\\sqrt{14}}, \\frac{2}{\\sqrt{14}}, \\frac{3}{\\sqrt{14}} \\right]\n",
        "   $$\n",
        "\n",
        "Thus, the unit vector of $ \\mathbf{c} $ is:\n",
        "\n",
        "$$\n",
        "\\hat{c} = \\left[ \\frac{1}{\\sqrt{14}}, \\frac{2}{\\sqrt{14}}, \\frac{3}{\\sqrt{14}} \\right]\n",
        "$$\n",
        "\n",
        "---\n",
        "\n",
        "### E. Find the Cartesian coordinates of vector $ \\mathbf{v} = [2, 3, 4] $ in the basis $ \\{ \\mathbf{b}_1 = [1, 0, 1], \\mathbf{b}_2 = [0, 1, 0], \\mathbf{b}_3 = [1, 0, -1] \\} $.\n",
        "\n",
        "To express the vector $ \\mathbf{v} = [2, 3, 4] $ in the given basis $ \\{ \\mathbf{b}_1, \\mathbf{b}_2, \\mathbf{b}_3 \\} $, we need to find the scalars $ x_1, x_2, x_3 $ such that:\n",
        "\n",
        "$$\n",
        "\\mathbf{v} = x_1 \\mathbf{b}_1 + x_2 \\mathbf{b}_2 + x_3 \\mathbf{b}_3\n",
        "$$\n",
        "\n",
        "This gives the system of equations:\n",
        "\n",
        "$$\n",
        "\\begin{aligned}\n",
        "x_1(1) + x_2(0) + x_3(1) &= 2 \\\\\n",
        "x_1(0) + x_2(1) + x_3(0) &= 3 \\\\\n",
        "x_1(1) + x_2(0) + x_3(-1) &= 4\n",
        "\\end{aligned}\n",
        "$$\n",
        "\n",
        "So, we have the system:\n",
        "\n",
        "$$\n",
        "\\begin{aligned}\n",
        "x_1 + x_3 &= 2 \\quad \\text{(1)} \\\\\n",
        "x_2 &= 3 \\quad \\text{(2)} \\\\\n",
        "x_1 - x_3 &= 4 \\quad \\text{(3)}\n",
        "\\end{aligned}\n",
        "$$\n",
        "\n",
        "### Step-by-Step Solution:\n",
        "\n",
        "1. From equation (2), we already know that $ x_2 = 3 $.\n",
        "\n",
        "2. Substitute $ x_2 = 3 $ into equations (1) and (3):\n",
        "\n",
        "   From equation (1): $ x_1 + x_3 = 2 $\n",
        "\n",
        "   From equation (3): $ x_1 - x_3 = 4 $\n",
        "\n",
        "3. Add equations (1) and (3):\n",
        "\n",
        "   $$\n",
        "   (x_1 + x_3) + (x_1 - x_3) = 2 + 4\n",
        "   $$\n",
        "\n",
        "   $$\n",
        "   2x_1 = 6 \\quad \\Rightarrow \\quad x_1 = 3\n",
        "   $$\n",
        "\n",
        "4. Substitute $ x_1 = 3 $ into equation (1):\n",
        "\n",
        "   $$\n",
        "   3 + x_3 = 2 \\quad \\Rightarrow \\quad x_3 = -1\n",
        "   $$\n",
        "\n",
        "Thus, the Cartesian coordinates of $ \\mathbf{v} $ in the basis $ \\{ \\mathbf{b}_1, \\mathbf{b}_2, \\mathbf{b}_3 \\} $ are:\n",
        "\n",
        "$$\n",
        "\\mathbf{v} = 3 \\mathbf{b}_1 + 3 \\mathbf{b}_2 - 1 \\mathbf{b}_3\n",
        "$$"
      ],
      "metadata": {
        "id": "TH1s8-4no1Tr"
      }
    }
  ],
  "metadata": {
    "kernelspec": {
      "display_name": ".venv",
      "language": "python",
      "name": "python3"
    },
    "language_info": {
      "codemirror_mode": {
        "name": "ipython",
        "version": 3
      },
      "file_extension": ".py",
      "mimetype": "text/x-python",
      "name": "python",
      "nbconvert_exporter": "python",
      "pygments_lexer": "ipython3",
      "version": "3.11.9"
    },
    "colab": {
      "provenance": [],
      "include_colab_link": true
    }
  },
  "nbformat": 4,
  "nbformat_minor": 0
}