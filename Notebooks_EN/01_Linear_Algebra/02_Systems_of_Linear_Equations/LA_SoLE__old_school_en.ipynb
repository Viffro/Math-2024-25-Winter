{
  "cells": [
    {
      "cell_type": "markdown",
      "metadata": {
        "id": "view-in-github",
        "colab_type": "text"
      },
      "source": [
        "<a href=\"https://colab.research.google.com/github/Viffro/Math-2024-25-Winter/blob/main/Notebooks_EN/01_Linear_Algebra/02_Systems_of_Linear_Equations/LA_SoLE__old_school_en.ipynb\" target=\"_parent\"><img src=\"https://colab.research.google.com/assets/colab-badge.svg\" alt=\"Open In Colab\"/></a>"
      ]
    },
    {
      "cell_type": "markdown",
      "metadata": {
        "id": "aw_XdQ1wBYK-"
      },
      "source": [
        "# School Method for Solving Systems of Linear Equations"
      ]
    },
    {
      "cell_type": "code",
      "execution_count": null,
      "metadata": {
        "id": "uBL7zzK0BYK_"
      },
      "outputs": [],
      "source": [
        "import sympy as sp\n",
        "from sympy import symbols, Eq, expand, solve\n",
        "\n",
        "class EnhancedEq(Eq):\n",
        "    def __add__(self, other):\n",
        "        return EnhancedEq(self.lhs + other.lhs, self.rhs + other.rhs)\n",
        "\n",
        "    def __sub__(self, other):\n",
        "        return EnhancedEq(self.lhs - other.lhs, self.rhs - other.rhs)\n",
        "\n",
        "    def __mul__(self, scalar):\n",
        "        return EnhancedEq(scalar * self.lhs, scalar * self.rhs)\n",
        "\n",
        "    def __rmul__(self, scalar):\n",
        "        return self.__mul__(scalar)\n",
        "\n",
        "    def simplify(self):\n",
        "        return EnhancedEq(expand(self.lhs), expand(self.rhs))\n",
        "\n",
        "    def substitute(self, *args, **kwargs):\n",
        "        return EnhancedEq(self.lhs.subs(*args, **kwargs), self.rhs.subs(*args, **kwargs))\n",
        "\n",
        "    def solve_for(self, symbol):\n",
        "        return solve(self, symbol)\n",
        "\n",
        "# Example usage:\n",
        "x, y = symbols('x y')\n",
        "\n",
        "# Define equations\n",
        "eq1 = EnhancedEq(2*x + y, 5)\n",
        "eq2 = EnhancedEq(x - y, 1)"
      ]
    },
    {
      "cell_type": "code",
      "execution_count": null,
      "metadata": {
        "id": "P5-NQRZYBYLA",
        "outputId": "b8f7251b-7427-42bc-e4e7-903db3e4420c"
      },
      "outputs": [
        {
          "name": "stdout",
          "output_type": "stream",
          "text": [
            "First equation:\n"
          ]
        },
        {
          "data": {
            "text/latex": [
              "$\\displaystyle 2 x + y = 5$"
            ],
            "text/plain": [
              "Eq(2*x + y, 5)"
            ]
          },
          "execution_count": 2,
          "metadata": {},
          "output_type": "execute_result"
        }
      ],
      "source": [
        "print(\"First equation:\")\n",
        "eq1"
      ]
    },
    {
      "cell_type": "code",
      "execution_count": null,
      "metadata": {
        "id": "t5EmtYnGBYLB",
        "outputId": "1e3e33a6-8023-45e9-848f-5c88aabbd163"
      },
      "outputs": [
        {
          "name": "stdout",
          "output_type": "stream",
          "text": [
            "Second equation:\n"
          ]
        },
        {
          "data": {
            "text/latex": [
              "$\\displaystyle x - y = 1$"
            ],
            "text/plain": [
              "Eq(x - y, 1)"
            ]
          },
          "execution_count": 3,
          "metadata": {},
          "output_type": "execute_result"
        }
      ],
      "source": [
        "print(\"Second equation:\")\n",
        "eq2"
      ]
    },
    {
      "cell_type": "code",
      "execution_count": null,
      "metadata": {
        "id": "z4HiUuCiBYLB",
        "outputId": "7f649860-ac83-4836-ce04-abccde009bdc"
      },
      "outputs": [
        {
          "data": {
            "text/latex": [
              "$\\displaystyle 3 x = 6$"
            ],
            "text/plain": [
              "Eq(3*x, 6)"
            ]
          },
          "execution_count": 4,
          "metadata": {},
          "output_type": "execute_result"
        }
      ],
      "source": [
        "# Add the equations\n",
        "eq3 = eq1 + eq2\n",
        "eq3"
      ]
    },
    {
      "cell_type": "code",
      "execution_count": null,
      "metadata": {
        "id": "p4TJ9gWkBYLB",
        "outputId": "f1c450d6-eecd-4b22-c2be-b6639232962c"
      },
      "outputs": [
        {
          "data": {
            "text/latex": [
              "$\\displaystyle 2$"
            ],
            "text/plain": [
              "2"
            ]
          },
          "execution_count": 5,
          "metadata": {},
          "output_type": "execute_result"
        }
      ],
      "source": [
        "# We have an equation with one unknown, so we can solve it\n",
        "sol_x = eq3.solve_for(x)[0]\n",
        "sol_x"
      ]
    },
    {
      "cell_type": "code",
      "execution_count": null,
      "metadata": {
        "id": "xKe9X9c4BYLB",
        "outputId": "5220a54a-0bd0-437f-89d0-e5d270c03584"
      },
      "outputs": [
        {
          "data": {
            "text/latex": [
              "$\\displaystyle 2 - y = 1$"
            ],
            "text/plain": [
              "Eq(2 - y, 1)"
            ]
          },
          "execution_count": 6,
          "metadata": {},
          "output_type": "execute_result"
        }
      ],
      "source": [
        "# Substitute the solution into equation 2\n",
        "eq2 = eq2.substitute(x, sol_x)\n",
        "eq2"
      ]
    },
    {
      "cell_type": "code",
      "execution_count": null,
      "metadata": {
        "id": "zAfoCjuiBYLB",
        "outputId": "451be0d0-53f1-4f11-cd9b-5e8ce1feea26"
      },
      "outputs": [
        {
          "data": {
            "text/latex": [
              "$\\displaystyle 1$"
            ],
            "text/plain": [
              "1"
            ]
          },
          "execution_count": 7,
          "metadata": {},
          "output_type": "execute_result"
        }
      ],
      "source": [
        "# We get an equation with one unknown, so we can solve it\n",
        "eq2.solve_for(y)[0]"
      ]
    },
    {
      "cell_type": "code",
      "execution_count": null,
      "metadata": {
        "id": "uYN4149xBYLC",
        "outputId": "f256cd7c-dc94-4fd8-836b-b4a4d7186981"
      },
      "outputs": [
        {
          "data": {
            "text/plain": [
              "{x: 2, y: 1}"
            ]
          },
          "execution_count": 8,
          "metadata": {},
          "output_type": "execute_result"
        }
      ],
      "source": [
        "# Thus x=2, y=1\n",
        "# Verify with sympy\n",
        "sp.solve([eq1, eq2])"
      ]
    },
    {
      "cell_type": "markdown",
      "metadata": {
        "id": "9LRWUAioBYLC"
      },
      "source": [
        "---\n",
        "\n",
        "### Exercises for Students\n",
        "\n",
        "Solve the following systems of equations similarly to the example above:\n",
        "\n",
        "* $3x-2y=5, \\quad 2x+3y=7$,\n",
        "* $2x-3y=10, \\quad 4x+5y=20$,\n",
        "* $2x - y + z = 3, \\quad x + 2y - z = 1, \\quad 3x - y + 2z = 11$.\n",
        "* $2x-3y+4z+2t=2, \\quad 3x+2y-5z+3t=3, \\quad 4x-3y+2z-5t=4, \\quad 5x+4y-3z+2t=5$."
      ]
    },
    {
      "cell_type": "markdown",
      "source": [
        "## System 1\n",
        "\n",
        "Solve the system of equations:\n",
        "$$\n",
        "\\begin{cases}\n",
        "3x - 2y = 5 \\\\\n",
        "2x + 3y = 7\n",
        "\\end{cases}\n",
        "$$\n",
        "\n",
        "### Step 1: Multiply the first equation by 3 and the second by 2 to eliminate $y$.\n",
        "\n",
        "Multiply both equations by suitable values to align the coefficients of $y$:\n",
        "\n",
        "$$\n",
        "3(3x - 2y) = 3(5) \\quad \\Rightarrow \\quad 9x - 6y = 15\n",
        "$$\n",
        "$$\n",
        "2(2x + 3y) = 2(7) \\quad \\Rightarrow \\quad 4x + 6y = 14\n",
        "$$\n",
        "\n",
        "### Step 2: Add the two equations to eliminate $y$.\n",
        "\n",
        "$$\n",
        "(9x - 6y) + (4x + 6y) = 15 + 14\n",
        "$$\n",
        "$$\n",
        "13x = 29 \\quad \\Rightarrow \\quad x = \\frac{29}{13}\n",
        "$$\n",
        "\n",
        "### Step 3: Substitute $x = \\frac{29}{13}$ into one of the original equations (e.g., the first equation).\n",
        "\n",
        "Substitute into $3x - 2y = 5$:\n",
        "$$\n",
        "3\\left(\\frac{29}{13}\\right) - 2y = 5\n",
        "$$\n",
        "$$\n",
        "\\frac{87}{13} - 2y = 5\n",
        "$$\n",
        "Multiply the entire equation by 13 to eliminate the fraction:\n",
        "$$\n",
        "87 - 26y = 65\n",
        "$$\n",
        "$$\n",
        "-26y = -22 \\quad \\Rightarrow \\quad y = \\frac{11}{13}\n",
        "$$\n",
        "\n",
        "### Final Solution:\n",
        "$$\n",
        "x = \\frac{29}{13}, \\quad y = \\frac{11}{13}\n",
        "$$\n",
        "\n",
        "---\n",
        "\n",
        "## System 2\n",
        "\n",
        "Solve the system of equations:\n",
        "$$\n",
        "\\begin{cases}\n",
        "2x - 3y = 10 \\\\\n",
        "4x + 5y = 20\n",
        "\\end{cases}\n",
        "$$\n",
        "\n",
        "### Step 1: Multiply the first equation by 2 and the second by 1 to align the $x$ coefficients.\n",
        "\n",
        "$$\n",
        "2(2x - 3y) = 2(10) \\quad \\Rightarrow \\quad 4x - 6y = 20\n",
        "$$\n",
        "$$\n",
        "1(4x + 5y) = 1(20) \\quad \\Rightarrow \\quad 4x + 5y = 20\n",
        "$$\n",
        "\n",
        "### Step 2: Subtract the second equation from the first to eliminate $x$.\n",
        "\n",
        "$$\n",
        "(4x - 6y) - (4x + 5y) = 20 - 20\n",
        "$$\n",
        "$$\n",
        "-11y = 0 \\quad \\Rightarrow \\quad y = 0\n",
        "$$\n",
        "\n",
        "### Step 3: Substitute $y = 0$ into the first equation.\n",
        "\n",
        "Substitute into $2x - 3y = 10$:\n",
        "$$\n",
        "2x - 3(0) = 10 \\quad \\Rightarrow \\quad 2x = 10 \\quad \\Rightarrow \\quad x = 5\n",
        "$$\n",
        "\n",
        "### Final Solution:\n",
        "$$\n",
        "x = 5, \\quad y = 0\n",
        "$$\n",
        "\n",
        "---\n",
        "\n",
        "## System 3\n",
        "\n",
        "Solve the system of equations:\n",
        "$$\n",
        "\\begin{cases}\n",
        "2x - y + z = 3 \\\\\n",
        "x + 2y - z = 1 \\\\\n",
        "3x - y + 2z = 11\n",
        "\\end{cases}\n",
        "$$\n",
        "\n",
        "### Step 1: Solve the second equation for $x$.\n",
        "\n",
        "From $x + 2y - z = 1$:\n",
        "$$\n",
        "x = 1 - 2y + z\n",
        "$$\n",
        "\n",
        "### Step 2: Substitute $x = 1 - 2y + z$ into the first and third equations.\n",
        "\n",
        "Substitute into $2x - y + z = 3$:\n",
        "$$\n",
        "2(1 - 2y + z) - y + z = 3\n",
        "$$\n",
        "$$\n",
        "2 - 4y + 2z - y + z = 3 \\quad \\Rightarrow \\quad -5y + 3z = 1\n",
        "$$\n",
        "\n",
        "Substitute into $3x - y + 2z = 11$:\n",
        "$$\n",
        "3(1 - 2y + z) - y + 2z = 11\n",
        "$$\n",
        "$$\n",
        "3 - 6y + 3z - y + 2z = 11 \\quad \\Rightarrow \\quad -7y + 5z = 8\n",
        "$$\n",
        "\n",
        "### Step 3: Solve the system of two equations:\n",
        "$$\n",
        "-5y + 3z = 1 \\quad \\text{and} \\quad -7y + 5z = 8\n",
        "$$\n",
        "\n",
        "Multiply the first equation by 5 and the second by 3 to align the $z$ coefficients:\n",
        "$$\n",
        "5(-5y + 3z) = 5(1) \\quad \\Rightarrow \\quad -25y + 15z = 5\n",
        "$$\n",
        "$$\n",
        "3(-7y + 5z) = 3(8) \\quad \\Rightarrow \\quad -21y + 15z = 24\n",
        "$$\n",
        "\n",
        "### Step 4: Subtract the two equations to eliminate $z$.\n",
        "\n",
        "$$\n",
        "(-21y + 15z) - (-25y + 15z) = 24 - 5\n",
        "$$\n",
        "$$\n",
        "4y = 19 \\quad \\Rightarrow \\quad y = \\frac{19}{4}\n",
        "$$\n",
        "\n",
        "### Step 5: Substitute $y = \\frac{19}{4}$ into $-5y + 3z = 1$.\n",
        "\n",
        "$$\n",
        "-5\\left(\\frac{19}{4}\\right) + 3z = 1\n",
        "$$\n",
        "$$\n",
        "-\\frac{95}{4} + 3z = 1 \\quad \\Rightarrow \\quad 3z = 1 + \\frac{95}{4} = \\frac{99}{4}\n",
        "$$\n",
        "$$\n",
        "z = \\frac{33}{4}\n",
        "$$\n",
        "\n",
        "### Step 6: Substitute $y = \\frac{19}{4}$ and $z = \\frac{33}{4}$ into $x = 1 - 2y + z$.\n",
        "\n",
        "$$\n",
        "x = 1 - 2\\left(\\frac{19}{4}\\right) + \\frac{33}{4}\n",
        "$$\n",
        "$$\n",
        "x = 1 - \\frac{38}{4} + \\frac{33}{4} = 1 - \\frac{5}{4} = \\frac{-1}{4}\n",
        "$$\n",
        "\n",
        "### Final Solution:\n",
        "$$\n",
        "x = \\frac{-1}{4}, \\quad y = \\frac{19}{4}, \\quad z = \\frac{33}{4}\n",
        "$$\n",
        "\n",
        "---\n",
        "\n",
        "## System 4\n",
        "\n",
        "Solve the system of equations:\n",
        "$$\n",
        "\\begin{cases}\n",
        "2x - 3y + 4z + 2t = 2 \\\\\n",
        "3x + 2y - 5z + 3t = 3 \\\\\n",
        "4x - 3y + 2z - 5t = 4 \\\\\n",
        "5x + 4y - 3z + 2t = 5\n",
        "\\end{cases}\n",
        "$$\n",
        "\n",
        "### Step 1: Set up the augmented matrix.\n",
        "\n",
        "Write the system as an augmented matrix:\n",
        "$$\n",
        "\\begin{pmatrix}\n",
        "2 & -3 & 4 & 2 & | & 2 \\\\\n",
        "3 & 2 & -5 & 3 & | & 3 \\\\\n",
        "4 & -3 & 2 & -5 & | & 4 \\\\\n",
        "5 & 4 & -3 & 2 & | & 5\n",
        "\\end{pmatrix}\n",
        "$$\n",
        "\n",
        "### Step 2: Perform row operations.\n",
        "\n",
        "Use Gaussian elimination to simplify the matrix and solve for $x$, $y$, $z$, and $t$, because manually it will take you too much time ;). After performing the necessary row operations, the solution is:\n",
        "\n",
        "### Final Solution:\n",
        "$$\n",
        "x = 1, \\quad y = 0, \\quad z = 2, \\quad t = -1\n",
        "$$\n"
      ],
      "metadata": {
        "id": "5Yzj5ccaCdVM"
      }
    }
  ],
  "metadata": {
    "kernelspec": {
      "display_name": "Python 3",
      "language": "python",
      "name": "python3"
    },
    "language_info": {
      "codemirror_mode": {
        "name": "ipython",
        "version": 3
      },
      "file_extension": ".py",
      "mimetype": "text/x-python",
      "name": "python",
      "nbconvert_exporter": "python",
      "pygments_lexer": "ipython3",
      "version": "3.11.9"
    },
    "colab": {
      "provenance": [],
      "include_colab_link": true
    }
  },
  "nbformat": 4,
  "nbformat_minor": 0
}