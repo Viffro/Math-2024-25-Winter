{
  "cells": [
    {
      "cell_type": "markdown",
      "metadata": {
        "id": "view-in-github",
        "colab_type": "text"
      },
      "source": [
        "<a href=\"https://colab.research.google.com/github/Viffro/Math-2024-25-Winter/blob/main/Notebooks_EN/01_Linear_Algebra/02_Systems_of_Linear_Equations/LA_SoLE_Gauss_en.ipynb\" target=\"_parent\"><img src=\"https://colab.research.google.com/assets/colab-badge.svg\" alt=\"Open In Colab\"/></a>"
      ]
    },
    {
      "cell_type": "markdown",
      "metadata": {
        "id": "R5h31TQQAXbc"
      },
      "source": [
        "# Gaussian Elimination Method\n",
        "\n",
        "Solving a system of linear equations using the Gaussian elimination method involves transforming the coefficient matrix of the system into an upper triangular matrix, followed by solving the system using back substitution.\n",
        "\n",
        "This is one of the most fundamental methods for solving systems of linear equations, especially in cases where the number of unknowns is different from the number of equations."
      ]
    },
    {
      "cell_type": "code",
      "execution_count": null,
      "metadata": {
        "id": "-KAUiC9TAXbd",
        "outputId": "a90cdcd4-616e-44f5-b511-ffb31df6a574"
      },
      "outputs": [
        {
          "data": {
            "text/markdown": [
              "**Initial equations:**"
            ],
            "text/plain": [
              "<IPython.core.display.Markdown object>"
            ]
          },
          "metadata": {},
          "output_type": "display_data"
        },
        {
          "data": {
            "text/markdown": [
              "System of equations:"
            ],
            "text/plain": [
              "<IPython.core.display.Markdown object>"
            ]
          },
          "metadata": {},
          "output_type": "display_data"
        },
        {
          "data": {
            "text/markdown": [
              "$$\\begin{aligned} 1 x_{1} + 2 x_{2} + 3 x_{3} = 10 \\\\ 4 x_{1} + 5 x_{2} + 6 x_{3} = 11 \\\\ 7 x_{1} + 8 x_{2} + 12 x_{3} = 18 \\end{aligned}$$"
            ],
            "text/plain": [
              "<IPython.core.display.Markdown object>"
            ]
          },
          "metadata": {},
          "output_type": "display_data"
        }
      ],
      "source": [
        "from sympy import Matrix, symbols, Eq, latex\n",
        "from IPython.display import display, Markdown\n",
        "import sympy as sp\n",
        "\n",
        "class SymbolicMatrix:\n",
        "    def __init__(self, matrix, column_labels=None, free_terms=None, display_mode=\"table\"):\n",
        "        self.matrix = Matrix(matrix)\n",
        "        self.operations = []\n",
        "        self.display_mode = display_mode\n",
        "\n",
        "        if column_labels:\n",
        "            if len(column_labels) != self.matrix.cols:\n",
        "                raise ValueError(\"The number of column labels must be equal to the number of columns in the matrix.\")\n",
        "            self.column_labels = column_labels\n",
        "        else:\n",
        "            self.column_labels = [f\"x{i+1}\" for i in range(self.matrix.cols)]\n",
        "\n",
        "        if free_terms:\n",
        "            if len(free_terms) != self.matrix.rows:\n",
        "                raise ValueError(\"The number of free terms must be equal to the number of rows in the matrix.\")\n",
        "            self.free_terms = free_terms\n",
        "        else:\n",
        "            self.free_terms = [0 for _ in range(self.matrix.rows)]\n",
        "\n",
        "        display(Markdown(\"**Initial equations:**\"))\n",
        "        self.display_matrix()\n",
        "\n",
        "    def set_display_mode(self, mode):\n",
        "        if mode not in [\"table\", \"equations\"]:\n",
        "            raise ValueError(\"Display mode must be 'table' or 'equations'.\")\n",
        "        self.display_mode = mode\n",
        "\n",
        "    def display_matrix(self):\n",
        "        if self.display_mode == \"table\":\n",
        "            self._display_table()\n",
        "        elif self.display_mode == \"equations\":\n",
        "            self._display_equations()\n",
        "\n",
        "    def _display_table(self):\n",
        "        matrix_with_free_terms = self.matrix.row_join(Matrix(self.free_terms))\n",
        "        headers = self.column_labels + [\"Free term\"]\n",
        "        display(Markdown(self._matrix_to_markdown(matrix_with_free_terms, headers)))\n",
        "\n",
        "    def _matrix_to_markdown(self, matrix, headers):\n",
        "        markdown_str = \"| \" + \" | \".join(headers) + \" |\\n\"\n",
        "        markdown_str += \"| \" + \" | \".join([\"---\"] * len(headers)) + \" |\\n\"\n",
        "        for i in range(matrix.rows):\n",
        "            row = [str(matrix[i, j]) for j in range(matrix.cols)]\n",
        "            markdown_str += \"| \" + \" | \".join(row) + \" |\\n\"\n",
        "        return markdown_str\n",
        "\n",
        "    def _display_equations(self):\n",
        "        equations = []\n",
        "        for i in range(self.matrix.rows):\n",
        "            terms = []\n",
        "            for j in range(self.matrix.cols):\n",
        "                coef = self.matrix[i, j]\n",
        "                var = symbols(self.column_labels[j])\n",
        "\n",
        "                # Check if the coefficient is positive, negative, or zero\n",
        "                if coef > 0:\n",
        "                    if j == 0:\n",
        "                        terms.append(f\"{latex(coef)} {latex(var)}\")\n",
        "                    else:\n",
        "                        terms.append(f\"+ {latex(coef)} {latex(var)}\")\n",
        "                elif coef < 0:\n",
        "                    terms.append(f\"- {latex(abs(coef))} {latex(var)}\")\n",
        "                elif coef == 0:\n",
        "                    if j == 0:\n",
        "                        terms.append(f\"0 {latex(var)}\")\n",
        "                    else:\n",
        "                        terms.append(f\"+0 {latex(var)}\")\n",
        "\n",
        "            lhs = \" \".join(terms)\n",
        "            rhs = latex(self.free_terms[i])\n",
        "\n",
        "            equation = f\"{lhs} = {rhs}\"\n",
        "            equations.append(equation)\n",
        "\n",
        "        display(Markdown(\"System of equations:\"))\n",
        "        display(Markdown(f\"$$\\\\begin{{aligned}} {self._equations_to_latex(equations)} \\\\end{{aligned}}$$\"))\n",
        "\n",
        "    def _equations_to_latex(self, equations):\n",
        "        return \" \\\\\\\\ \".join(equations)\n",
        "\n",
        "    def add_row(self, target_row, source_row, coefficient):\n",
        "        target_idx = self._validate_row_number(target_row)\n",
        "        source_idx = self._validate_row_number(source_row)\n",
        "\n",
        "        # Operation on the matrix\n",
        "        self.matrix.row_op(target_idx, lambda v, j: v + coefficient * self.matrix[source_idx, j])\n",
        "\n",
        "        # Operation on the free terms\n",
        "        self.free_terms[target_idx] += coefficient * self.free_terms[source_idx]\n",
        "\n",
        "        operation_str = f\"r{target_row} = r{target_row} + {coefficient}*r{source_row}\"\n",
        "        self.operations.append(operation_str)\n",
        "        display(Markdown(f\"**Operation:** {operation_str}\"))\n",
        "        self.display_matrix()\n",
        "\n",
        "    def multiply_row(self, row, coefficient):\n",
        "        row_idx = self._validate_row_number(row)\n",
        "\n",
        "        # Operation on the matrix\n",
        "        self.matrix.row_op(row_idx, lambda v, _: coefficient * v)\n",
        "\n",
        "        # Operation on the free terms\n",
        "        self.free_terms[row_idx] *= coefficient\n",
        "\n",
        "        operation_str = f\"r{row} = {coefficient}*r{row}\"\n",
        "        self.operations.append(operation_str)\n",
        "        display(Markdown(f\"**Operation:** {operation_str}\"))\n",
        "        self.display_matrix()\n",
        "\n",
        "    def swap_rows(self, row1, row2):\n",
        "        row1_idx = self._validate_row_number(row1)\n",
        "        row2_idx = self._validate_row_number(row2)\n",
        "\n",
        "        self.matrix.row_swap(row1_idx, row2_idx)\n",
        "        self.free_terms[row1_idx], self.free_terms[row2_idx] = self.free_terms[row2_idx], self.free_terms[row1_idx]\n",
        "\n",
        "        operation_str = f\"Swap r{row1} <-> r{row2}\"\n",
        "        self.operations.append(operation_str)\n",
        "        display(Markdown(f\"**Operation:** {operation_str}\"))\n",
        "        self.display_matrix()\n",
        "\n",
        "    def swap_columns(self, col1, col2):\n",
        "        col1_idx = self._validate_col_number(col1)\n",
        "        col2_idx = self._validate_col_number(col2)\n",
        "\n",
        "        self.matrix.col_swap(col1_idx, col2_idx)\n",
        "        self.column_labels[col1_idx], self.column_labels[col2_idx] = self.column_labels[col2_idx], self.column_labels[col1_idx]\n",
        "\n",
        "        operation_str = f\"Swap col{col1} <-> col{col2}\"\n",
        "        self.operations.append(operation_str)\n",
        "        display(Markdown(f\"**Operation:** {operation_str}\"))\n",
        "        self.display_matrix()\n",
        "\n",
        "    def _validate_row_number(self, row):\n",
        "        if not isinstance(row, int):\n",
        "            raise TypeError(\"Row number must be an integer.\")\n",
        "        if row < 1 or row > self.matrix.rows:\n",
        "            raise IndexError(f\"Row number must be between 1 and {self.matrix.rows}.\")\n",
        "        return row - 1\n",
        "\n",
        "    def _validate_col_number(self, col):\n",
        "        if not isinstance(col, int):\n",
        "            raise TypeError(\"Column number must be an integer.\")\n",
        "        if col < 1 or col > self.matrix.cols:\n",
        "            raise IndexError(f\"Column number must be between 1 and {self.matrix.cols}.\")\n",
        "        return col - 1\n",
        "\n",
        "    def print_operations(self):\n",
        "        display(Markdown(\"**Performed operations:**\"))\n",
        "        for op in self.operations:\n",
        "            print(op)\n",
        "\n",
        "# Example usage:\n",
        "m = SymbolicMatrix([[1,2,3], [4,5,6], [7,8,12]], column_labels=[\"x1\", \"x2\", \"x3\"], free_terms=[10, 11, 18], display_mode=\"equations\")\n"
      ]
    },
    {
      "cell_type": "code",
      "execution_count": null,
      "metadata": {
        "id": "JNTPGBFOAXbe",
        "outputId": "f226ca1a-8782-4460-f914-b4bbb1faa642"
      },
      "outputs": [
        {
          "data": {
            "text/markdown": [
              "**Operation:** r2 = r2 + -4*r1"
            ],
            "text/plain": [
              "<IPython.core.display.Markdown object>"
            ]
          },
          "metadata": {},
          "output_type": "display_data"
        },
        {
          "data": {
            "text/markdown": [
              "System of equations:"
            ],
            "text/plain": [
              "<IPython.core.display.Markdown object>"
            ]
          },
          "metadata": {},
          "output_type": "display_data"
        },
        {
          "data": {
            "text/markdown": [
              "$$\\begin{aligned} 1 x_{1} + 2 x_{2} + 3 x_{3} = 10 \\\\ 0 x_{1} - 3 x_{2} - 6 x_{3} = -29 \\\\ 7 x_{1} + 8 x_{2} + 12 x_{3} = 18 \\end{aligned}$$"
            ],
            "text/plain": [
              "<IPython.core.display.Markdown object>"
            ]
          },
          "metadata": {},
          "output_type": "display_data"
        }
      ],
      "source": [
        "m.add_row(2, 1, -4)"
      ]
    },
    {
      "cell_type": "code",
      "execution_count": null,
      "metadata": {
        "id": "279isUIBAXbf",
        "outputId": "08ad70ee-f544-42cc-dbf2-d5298adc0968"
      },
      "outputs": [
        {
          "data": {
            "text/markdown": [
              "**Operation:** r3 = r3 + -7*r1"
            ],
            "text/plain": [
              "<IPython.core.display.Markdown object>"
            ]
          },
          "metadata": {},
          "output_type": "display_data"
        },
        {
          "data": {
            "text/markdown": [
              "System of equations:"
            ],
            "text/plain": [
              "<IPython.core.display.Markdown object>"
            ]
          },
          "metadata": {},
          "output_type": "display_data"
        },
        {
          "data": {
            "text/markdown": [
              "$$\\begin{aligned} 1 x_{1} + 2 x_{2} + 3 x_{3} = 10 \\\\ 0 x_{1} - 3 x_{2} - 6 x_{3} = -29 \\\\ 0 x_{1} - 6 x_{2} - 9 x_{3} = -52 \\end{aligned}$$"
            ],
            "text/plain": [
              "<IPython.core.display.Markdown object>"
            ]
          },
          "metadata": {},
          "output_type": "display_data"
        }
      ],
      "source": [
        "m.add_row(3, 1, -7)"
      ]
    },
    {
      "cell_type": "code",
      "execution_count": null,
      "metadata": {
        "id": "1CdQS3o9AXbf",
        "outputId": "25978523-9935-43fb-c754-036d079e3ea6"
      },
      "outputs": [
        {
          "data": {
            "text/markdown": [
              "**Operation:** r3 = r3 + -2*r2"
            ],
            "text/plain": [
              "<IPython.core.display.Markdown object>"
            ]
          },
          "metadata": {},
          "output_type": "display_data"
        },
        {
          "data": {
            "text/markdown": [
              "System of equations:"
            ],
            "text/plain": [
              "<IPython.core.display.Markdown object>"
            ]
          },
          "metadata": {},
          "output_type": "display_data"
        },
        {
          "data": {
            "text/markdown": [
              "$$\\begin{aligned} 1 x_{1} + 2 x_{2} + 3 x_{3} = 10 \\\\ 0 x_{1} - 3 x_{2} - 6 x_{3} = -29 \\\\ 0 x_{1} +0 x_{2} + 3 x_{3} = 6 \\end{aligned}$$"
            ],
            "text/plain": [
              "<IPython.core.display.Markdown object>"
            ]
          },
          "metadata": {},
          "output_type": "display_data"
        }
      ],
      "source": [
        "m.add_row(3, 2, -2)"
      ]
    },
    {
      "cell_type": "code",
      "execution_count": null,
      "metadata": {
        "id": "YkCSALqIAXbf"
      },
      "outputs": [],
      "source": [
        "# We have 3 equations, so we end the operation\n",
        "# Define symbols\n",
        "x1, x2, x3 = symbols('x1 x2 x3')\n",
        "# Define equations\n",
        "eq1 = Eq(x1 + 2*x2 + 3*x3, 10)\n",
        "eq2 = Eq(-3*x2 - 6*x3, -29)\n",
        "eq3 = Eq(3*x3, 6)"
      ]
    },
    {
      "cell_type": "code",
      "execution_count": null,
      "metadata": {
        "id": "3a1ghdi6AXbf",
        "outputId": "f05e52a9-9456-481a-add5-aa01be485e38"
      },
      "outputs": [
        {
          "data": {
            "text/latex": [
              "$\\displaystyle 2$"
            ],
            "text/plain": [
              "2"
            ]
          },
          "execution_count": 14,
          "metadata": {},
          "output_type": "execute_result"
        }
      ],
      "source": [
        "sol_x3 = sp.solve(eq3, x3)[0]\n",
        "sol_x3"
      ]
    },
    {
      "cell_type": "code",
      "execution_count": null,
      "metadata": {
        "id": "BZuvlVf8AXbf",
        "outputId": "2b8be7c2-c9e5-4f5a-ef3b-dd04b389950f"
      },
      "outputs": [
        {
          "data": {
            "text/latex": [
              "$\\displaystyle \\frac{17}{3}$"
            ],
            "text/plain": [
              "17/3"
            ]
          },
          "execution_count": 15,
          "metadata": {},
          "output_type": "execute_result"
        }
      ],
      "source": [
        "# Substitute solution x3 into equation 2\n",
        "eq2 = eq2.subs(x3, sol_x3)\n",
        "# Solve equation 2\n",
        "sol_x2 = sp.solve(eq2, x2)[0]\n",
        "sol_x2"
      ]
    },
    {
      "cell_type": "code",
      "execution_count": null,
      "metadata": {
        "id": "Q8fpksPRAXbf",
        "outputId": "4f00c50c-fb40-455b-959e-8430ec158c3a"
      },
      "outputs": [
        {
          "data": {
            "text/latex": [
              "$\\displaystyle - \\frac{22}{3}$"
            ],
            "text/plain": [
              "-22/3"
            ]
          },
          "execution_count": 16,
          "metadata": {},
          "output_type": "execute_result"
        }
      ],
      "source": [
        "# Substitute solutions x2 and x3 into equation 1\n",
        "eq1 = eq1.subs({x2: sol_x2, x3: sol_x3})\n",
        "# Solve equation 1\n",
        "sol_x1 = sp.solve(eq1, x1)[0]\n",
        "sol_x1"
      ]
    },
    {
      "cell_type": "markdown",
      "metadata": {
        "id": "wRMg37NRAXbf"
      },
      "source": [
        "---\n",
        "\n",
        "## Exercises for Students\n",
        "\n",
        "$$\n",
        "\\left\\{\\begin{array}{c}{x+2 y-2 z=4} \\\\ {2 x+y+z=0} \\\\ {3 x+2 y+z=1}\\end{array}\\right.\\quad\n",
        "\\left\\{\\begin{array}{c}{x+y+z-t=2} \\\\ {2 x+y+z=3} \\\\ {-x+z-t=0} \\\\ {3 x+2 y-z+2 t=-1}\\end{array}\\right.\\quad\n",
        "\\left\\{\\begin{array}{c}{x+y-z-t=0} \\\\ {2 x+3 y-2 z+t=4} \\\\ {3 x+5 z=0} \\\\ {-x+y-3 z+2 t=3}\\end{array}\\right.\n",
        "$$"
      ]
    },
    {
      "cell_type": "markdown",
      "source": [
        "The given systems of equations:\n",
        "\n",
        "1.\n",
        "$$\n",
        "\\left\\{\n",
        "\\begin{array}{l}\n",
        "x + 2y - 2z = 4 \\\\\n",
        "2x + y + z = 0 \\\\\n",
        "3x + 2y + z = 1\n",
        "\\end{array}\n",
        "\\right.\n",
        "$$\n",
        "\n",
        "2.\n",
        "$$\n",
        "\\left\\{\n",
        "\\begin{array}{l}\n",
        "x + y + z - t = 2 \\\\\n",
        "2x + y + z = 3 \\\\\n",
        "-x + z - t = 0 \\\\\n",
        "3x + 2y - z + 2t = -1\n",
        "\\end{array}\n",
        "\\right.\n",
        "$$\n",
        "\n",
        "3.\n",
        "$$\n",
        "\\left\\{\n",
        "\\begin{array}{l}\n",
        "x + y - z - t = 0 \\\\\n",
        "2x + 3y - 2z + t = 4 \\\\\n",
        "3x + 5z = 0 \\\\\n",
        "-x + y - 3z + 2t = 3\n",
        "\\end{array}\n",
        "\\right.\n",
        "$$\n",
        "\n",
        "### First System (Gaussian Elimination):\n",
        "\n",
        "We start with the augmented matrix:\n",
        "\n",
        "$$\n",
        "\\begin{pmatrix}\n",
        "1 & 2 & -2 & | & 4 \\\\\n",
        "2 & 1 & 1 & | & 0 \\\\\n",
        "3 & 2 & 1 & | & 1\n",
        "\\end{pmatrix}\n",
        "$$\n",
        "\n",
        "**Step 1:** Subtract $2$ times the first row from the second row and subtract $3$ times the first row from the third row:\n",
        "\n",
        "$$\n",
        "\\begin{pmatrix}\n",
        "1 & 2 & -2 & | & 4 \\\\\n",
        "0 & -3 & 5 & | & -8 \\\\\n",
        "0 & -4 & 7 & | & -11\n",
        "\\end{pmatrix}\n",
        "$$\n",
        "\n",
        "**Step 2:** Multiply the second row by $-1/3$:\n",
        "\n",
        "$$\n",
        "\\begin{pmatrix}\n",
        "1 & 2 & -2 & | & 4 \\\\\n",
        "0 & 1 & -\\frac{5}{3} & | & \\frac{8}{3} \\\\\n",
        "0 & -4 & 7 & | & -11\n",
        "\\end{pmatrix}\n",
        "$$\n",
        "\n",
        "Add $4$ times the second row to the third row:\n",
        "\n",
        "$$\n",
        "\\begin{pmatrix}\n",
        "1 & 2 & -2 & | & 4 \\\\\n",
        "0 & 1 & -\\frac{5}{3} & | & \\frac{8}{3} \\\\\n",
        "0 & 0 & \\frac{13}{3} & | & \\frac{13}{3}\n",
        "\\end{pmatrix}\n",
        "$$\n",
        "\n",
        "**Step 3:** Solve for $z$, $y$, and $x$:\n",
        "\n",
        "$$\n",
        "z = 1, \\quad y = 4, \\quad x = -2\n",
        "$$\n",
        "\n",
        "### Second System (Gaussian Elimination):\n",
        "\n",
        "We start with the augmented matrix:\n",
        "\n",
        "$$\n",
        "\\begin{pmatrix}\n",
        "1 & 1 & 1 & -1 & | & 2 \\\\\n",
        "2 & 1 & 1 & 0 & | & 3 \\\\\n",
        "-1 & 0 & 1 & -1 & | & 0 \\\\\n",
        "3 & 2 & -1 & 2 & | & -1\n",
        "\\end{pmatrix}\n",
        "$$\n",
        "\n",
        "**Step 1:** Subtract $2$ times the first row from the second row, add the first row to the third row, and subtract $3$ times the first row from the fourth row:\n",
        "\n",
        "$$\n",
        "\\begin{pmatrix}\n",
        "1 & 1 & 1 & -1 & | & 2 \\\\\n",
        "0 & -1 & -1 & 2 & | & -1 \\\\\n",
        "0 & 1 & 2 & -2 & | & 2 \\\\\n",
        "0 & -1 & -4 & 5 & | & -7\n",
        "\\end{pmatrix}\n",
        "$$\n",
        "\n",
        "**Step 2:** Add $3$ times the second row to the third row and add the second row to the fourth row:\n",
        "\n",
        "$$\n",
        "\\begin{pmatrix}\n",
        "1 & 1 & 1 & -1 & | & 2 \\\\\n",
        "0 & -1 & -1 & 2 & | & -1 \\\\\n",
        "0 & 0 & 1 & 0 & | & 1 \\\\\n",
        "0 & 0 & -5 & 7 & | & -8\n",
        "\\end{pmatrix}\n",
        "$$\n",
        "\n",
        "**Step 3:** Add $5$ times the third row to the fourth row:\n",
        "\n",
        "$$\n",
        "\\begin{pmatrix}\n",
        "1 & 1 & 1 & -1 & | & 2 \\\\\n",
        "0 & -1 & -1 & 2 & | & -1 \\\\\n",
        "0 & 0 & 1 & 0 & | & 1 \\\\\n",
        "0 & 0 & 0 & 7 & | & -3\n",
        "\\end{pmatrix}\n",
        "$$\n",
        "\n",
        "**Step 4:** Solve for $t$, $z$, $y$, and $x$:\n",
        "\n",
        "$$\n",
        "t = -\\frac{3}{7}, \\quad z = 1, \\quad y = -\\frac{1}{7}, \\quad x = \\frac{6}{7}\n",
        "$$\n",
        "\n",
        "### Third System (Gaussian Elimination):\n",
        "\n",
        "We start with the augmented matrix:\n",
        "\n",
        "$$\n",
        "\\begin{pmatrix}\n",
        "1 & 1 & -1 & -1 & | & 0 \\\\\n",
        "2 & 3 & -2 & 1 & | & 4 \\\\\n",
        "3 & 0 & 5 & 0 & | & 0 \\\\\n",
        "-1 & 1 & -3 & 2 & | & 3\n",
        "\\end{pmatrix}\n",
        "$$\n",
        "\n",
        "**Step 1:** Subtract $2$ times the first row from the second row, subtract $3$ times the first row from the third row, and add the first row to the fourth row:\n",
        "\n",
        "$$\n",
        "\\begin{pmatrix}\n",
        "1 & 1 & -1 & -1 & | & 0 \\\\\n",
        "0 & 1 & 0 & 3 & | & 4 \\\\\n",
        "0 & -3 & 8 & 3 & | & 0 \\\\\n",
        "0 & 2 & -4 & 1 & | & 3\n",
        "\\end{pmatrix}\n",
        "$$\n",
        "\n",
        "**Step 2:** Add $3$ times the second row to the third row and subtract $2$ times the second row from the fourth row:\n",
        "\n",
        "$$\n",
        "\\begin{pmatrix}\n",
        "1 & 1 & -1 & -1 & | & 0 \\\\\n",
        "0 & 1 & 0 & 3 & | & 4 \\\\\n",
        "0 & 0 & 8 & 12 & | & 12 \\\\\n",
        "0 & 0 & -4 & -5 & | & -5\n",
        "\\end{pmatrix}\n",
        "$$\n",
        "\n",
        "**Step 3:** Add $\\frac{1}{2}$ times the third row to the fourth row:\n",
        "\n",
        "$$\n",
        "\\begin{pmatrix}\n",
        "1 & 1 & -1 & -1 & | & 0 \\\\\n",
        "0 & 1 & 0 & 3 & | & 4 \\\\\n",
        "0 & 0 & 8 & 12 & | & 12 \\\\\n",
        "0 & 0 & 0 & 1 & | & 1\n",
        "\\end{pmatrix}\n",
        "$$\n",
        "\n",
        "**Step 4:** Solve for $t$, $z$, $y$, and $x$:\n",
        "\n",
        "$$\n",
        "t = 1, \\quad z = 0, \\quad y = 1, \\quad x = 0\n",
        "$$\n",
        "\n",
        "### Final Solutions:\n",
        "\n",
        "1. **First System:** $x = -2, \\quad y = 4, \\quad z = 1$\n",
        "2. **Second System:** $x = \\frac{6}{7}, \\quad y = -\\frac{1}{7}, \\quad z = 1, \\quad t = -\\frac{3}{7}$\n",
        "3. **Third System:** $x = 0, \\quad y = 1, \\quad z = 0, \\quad t = 1$\n"
      ],
      "metadata": {
        "id": "ILGnGlLWBCQv"
      }
    }
  ],
  "metadata": {
    "kernelspec": {
      "display_name": ".venv",
      "language": "python",
      "name": "python3"
    },
    "language_info": {
      "codemirror_mode": {
        "name": "ipython",
        "version": 3
      },
      "file_extension": ".py",
      "mimetype": "text/x-python",
      "name": "python",
      "nbconvert_exporter": "python",
      "pygments_lexer": "ipython3",
      "version": "3.11.9"
    },
    "colab": {
      "provenance": [],
      "include_colab_link": true
    }
  },
  "nbformat": 4,
  "nbformat_minor": 0
}